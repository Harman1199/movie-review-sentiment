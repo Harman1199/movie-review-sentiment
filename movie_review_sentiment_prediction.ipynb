{
 "cells": [
  {
   "cell_type": "code",
   "execution_count": 1,
   "id": "cfe8e938",
   "metadata": {
    "_cell_guid": "a65804fc-af65-4759-b0c8-352c2487ee74",
    "_uuid": "bc3b5e9c-1f73-4eb8-9093-4b07ac1b438d",
    "collapsed": false,
    "execution": {
     "iopub.execute_input": "2023-08-08T11:01:13.577538Z",
     "iopub.status.busy": "2023-08-08T11:01:13.577012Z",
     "iopub.status.idle": "2023-08-08T11:01:13.595453Z",
     "shell.execute_reply": "2023-08-08T11:01:13.594491Z"
    },
    "jupyter": {
     "outputs_hidden": false
    },
    "papermill": {
     "duration": 0.049914,
     "end_time": "2023-08-08T11:01:13.598154",
     "exception": false,
     "start_time": "2023-08-08T11:01:13.548240",
     "status": "completed"
    },
    "tags": []
   },
   "outputs": [
    {
     "name": "stdout",
     "output_type": "stream",
     "text": [
      "/kaggle/input/sentiment-prediction-on-movie-reviews/movies.csv\n",
      "/kaggle/input/sentiment-prediction-on-movie-reviews/sample.csv\n",
      "/kaggle/input/sentiment-prediction-on-movie-reviews/train.csv\n",
      "/kaggle/input/sentiment-prediction-on-movie-reviews/test.csv\n"
     ]
    }
   ],
   "source": [
    "# This Python 3 environment comes with many helpful analytics libraries installed\n",
    "# It is defined by the kaggle/python Docker image: https://github.com/kaggle/docker-python\n",
    "# For example, here's several helpful packages to load\n",
    "\n",
    "import numpy as np # linear algebra\n",
    "import pandas as pd # data processing, CSV file I/O (e.g. pd.read_csv)\n",
    "\n",
    "# Input data files are available in the read-only \"../input/\" directory\n",
    "# For example, running this (by clicking run or pressing Shift+Enter) will list all files under the input directory\n",
    "\n",
    "import os\n",
    "for dirname, _, filenames in os.walk('/kaggle/input'):\n",
    "    for filename in filenames:\n",
    "        print(os.path.join(dirname, filename))\n",
    "\n",
    "# You can write up to 20GB to the current directory (/kaggle/working/) that gets preserved as output when you create a version using \"Save & Run All\" \n",
    "# You can also write temporary files to /kaggle/temp/, but they won't be saved outside of the current session"
   ]
  },
  {
   "cell_type": "markdown",
   "id": "a52edede",
   "metadata": {
    "papermill": {
     "duration": 0.026311,
     "end_time": "2023-08-08T11:01:13.651597",
     "exception": false,
     "start_time": "2023-08-08T11:01:13.625286",
     "status": "completed"
    },
    "tags": []
   },
   "source": [
    "# Imports"
   ]
  },
  {
   "cell_type": "code",
   "execution_count": 2,
   "id": "5d6caa0e",
   "metadata": {
    "execution": {
     "iopub.execute_input": "2023-08-08T11:01:13.708982Z",
     "iopub.status.busy": "2023-08-08T11:01:13.708566Z",
     "iopub.status.idle": "2023-08-08T11:01:16.102041Z",
     "shell.execute_reply": "2023-08-08T11:01:16.100882Z"
    },
    "papermill": {
     "duration": 2.425085,
     "end_time": "2023-08-08T11:01:16.104791",
     "exception": false,
     "start_time": "2023-08-08T11:01:13.679706",
     "status": "completed"
    },
    "tags": []
   },
   "outputs": [],
   "source": [
    "### Imports ###\n",
    "\n",
    "## Utility Libraries ##\n",
    "import time\n",
    "import re\n",
    "from imblearn.over_sampling import SMOTE\n",
    "\n",
    "## Plotting library ##\n",
    "import matplotlib.pyplot as plt\n",
    "\n",
    "## SKLearn Imports ##\n",
    "\n",
    "# Pre-processing\n",
    "from sklearn.feature_extraction.text import TfidfVectorizer, CountVectorizer, TfidfTransformer\n",
    "from sklearn.preprocessing import LabelEncoder\n",
    "\n",
    "# Model Selection\n",
    "from sklearn.feature_selection import RFECV\n",
    "from sklearn.model_selection import train_test_split\n",
    "from sklearn.model_selection import cross_val_score\n",
    "from sklearn.model_selection import GridSearchCV\n",
    "\n",
    "# Models\n",
    "from sklearn.linear_model import LogisticRegression\n",
    "from sklearn.naive_bayes import MultinomialNB, BernoulliNB, ComplementNB\n",
    "from sklearn.linear_model import SGDClassifier\n",
    "\n",
    "# Metrics\n",
    "from sklearn.metrics import classification_report\n",
    "from sklearn.metrics import ConfusionMatrixDisplay\n",
    "from sklearn.metrics import f1_score\n",
    " \n"
   ]
  },
  {
   "cell_type": "markdown",
   "id": "aa66d959",
   "metadata": {
    "papermill": {
     "duration": 0.026084,
     "end_time": "2023-08-08T11:01:16.158574",
     "exception": false,
     "start_time": "2023-08-08T11:01:16.132490",
     "status": "completed"
    },
    "tags": []
   },
   "source": [
    "* 3 Models are selected from sklearn library \n",
    "1. Logistic Regression - Model 1\n",
    "2. Naive Bayes (in general) and BernoulliNB (in particular) - Model 2\n",
    "3. SGD Classifier for SVC - Model 3"
   ]
  },
  {
   "cell_type": "code",
   "execution_count": 3,
   "id": "b5c423d1",
   "metadata": {
    "_cell_guid": "f2b5ed8e-319d-44cf-9c89-711e8bef8057",
    "_uuid": "d37c80b2-174f-4413-8e4a-719841c8193f",
    "collapsed": false,
    "execution": {
     "iopub.execute_input": "2023-08-08T11:01:16.215071Z",
     "iopub.status.busy": "2023-08-08T11:01:16.213601Z",
     "iopub.status.idle": "2023-08-08T11:01:17.242395Z",
     "shell.execute_reply": "2023-08-08T11:01:17.240902Z"
    },
    "jupyter": {
     "outputs_hidden": false
    },
    "papermill": {
     "duration": 1.061806,
     "end_time": "2023-08-08T11:01:17.246458",
     "exception": false,
     "start_time": "2023-08-08T11:01:16.184652",
     "status": "completed"
    },
    "tags": []
   },
   "outputs": [],
   "source": [
    "### Loading the dataset ###\n",
    "\n",
    "data = pd.read_csv('/kaggle/input/sentiment-prediction-on-movie-reviews/train.csv')"
   ]
  },
  {
   "cell_type": "markdown",
   "id": "78daace4",
   "metadata": {
    "papermill": {
     "duration": 0.026557,
     "end_time": "2023-08-08T11:01:17.300239",
     "exception": false,
     "start_time": "2023-08-08T11:01:17.273682",
     "status": "completed"
    },
    "tags": []
   },
   "source": [
    "# ****Data Preprocessing****"
   ]
  },
  {
   "cell_type": "code",
   "execution_count": 4,
   "id": "95ca02c0",
   "metadata": {
    "_cell_guid": "f5300a68-838d-469a-b895-5bd168ef0c52",
    "_uuid": "0ac246f4-f596-4298-a923-47a3858f27fc",
    "collapsed": false,
    "execution": {
     "iopub.execute_input": "2023-08-08T11:01:17.356380Z",
     "iopub.status.busy": "2023-08-08T11:01:17.355736Z",
     "iopub.status.idle": "2023-08-08T11:01:17.391812Z",
     "shell.execute_reply": "2023-08-08T11:01:17.390588Z"
    },
    "jupyter": {
     "outputs_hidden": false
    },
    "papermill": {
     "duration": 0.067538,
     "end_time": "2023-08-08T11:01:17.394695",
     "exception": false,
     "start_time": "2023-08-08T11:01:17.327157",
     "status": "completed"
    },
    "tags": []
   },
   "outputs": [
    {
     "name": "stdout",
     "output_type": "stream",
     "text": [
      "(162758, 5)\n"
     ]
    },
    {
     "data": {
      "text/html": [
       "<div>\n",
       "<style scoped>\n",
       "    .dataframe tbody tr th:only-of-type {\n",
       "        vertical-align: middle;\n",
       "    }\n",
       "\n",
       "    .dataframe tbody tr th {\n",
       "        vertical-align: top;\n",
       "    }\n",
       "\n",
       "    .dataframe thead th {\n",
       "        text-align: right;\n",
       "    }\n",
       "</style>\n",
       "<table border=\"1\" class=\"dataframe\">\n",
       "  <thead>\n",
       "    <tr style=\"text-align: right;\">\n",
       "      <th></th>\n",
       "      <th>movieid</th>\n",
       "      <th>reviewerName</th>\n",
       "      <th>isFrequentReviewer</th>\n",
       "      <th>reviewText</th>\n",
       "      <th>sentiment</th>\n",
       "    </tr>\n",
       "  </thead>\n",
       "  <tbody>\n",
       "    <tr>\n",
       "      <th>0</th>\n",
       "      <td>marvelous_pirate</td>\n",
       "      <td>Benjamin Henry</td>\n",
       "      <td>False</td>\n",
       "      <td>Henry Selick’s first movie since 2009’s Corali...</td>\n",
       "      <td>POSITIVE</td>\n",
       "    </tr>\n",
       "    <tr>\n",
       "      <th>1</th>\n",
       "      <td>tony_montana_frodo_baggins_v_rocky_balboa</td>\n",
       "      <td>Felicia Lopez</td>\n",
       "      <td>False</td>\n",
       "      <td>With a cast that reads like the Vogue Oscar pa...</td>\n",
       "      <td>NEGATIVE</td>\n",
       "    </tr>\n",
       "    <tr>\n",
       "      <th>2</th>\n",
       "      <td>darth_vader_katniss_everdeen_sorcerer_donnie_d...</td>\n",
       "      <td>Mr. Charles Burgess</td>\n",
       "      <td>True</td>\n",
       "      <td>Creed II does not give us anything but another...</td>\n",
       "      <td>POSITIVE</td>\n",
       "    </tr>\n",
       "    <tr>\n",
       "      <th>3</th>\n",
       "      <td>lara_croft_glimmer</td>\n",
       "      <td>Ryan Barrett</td>\n",
       "      <td>False</td>\n",
       "      <td>I know what you're thinking, but this is no Li...</td>\n",
       "      <td>POSITIVE</td>\n",
       "    </tr>\n",
       "    <tr>\n",
       "      <th>4</th>\n",
       "      <td>jason_bourne_surreal_the_terminator_indiana_jones</td>\n",
       "      <td>Alexander Glover</td>\n",
       "      <td>False</td>\n",
       "      <td>Director Fernando Meirelles tells the story wi...</td>\n",
       "      <td>POSITIVE</td>\n",
       "    </tr>\n",
       "  </tbody>\n",
       "</table>\n",
       "</div>"
      ],
      "text/plain": [
       "                                             movieid         reviewerName  \\\n",
       "0                                   marvelous_pirate       Benjamin Henry   \n",
       "1          tony_montana_frodo_baggins_v_rocky_balboa        Felicia Lopez   \n",
       "2  darth_vader_katniss_everdeen_sorcerer_donnie_d...  Mr. Charles Burgess   \n",
       "3                                 lara_croft_glimmer         Ryan Barrett   \n",
       "4  jason_bourne_surreal_the_terminator_indiana_jones     Alexander Glover   \n",
       "\n",
       "   isFrequentReviewer                                         reviewText  \\\n",
       "0               False  Henry Selick’s first movie since 2009’s Corali...   \n",
       "1               False  With a cast that reads like the Vogue Oscar pa...   \n",
       "2                True  Creed II does not give us anything but another...   \n",
       "3               False  I know what you're thinking, but this is no Li...   \n",
       "4               False  Director Fernando Meirelles tells the story wi...   \n",
       "\n",
       "  sentiment  \n",
       "0  POSITIVE  \n",
       "1  NEGATIVE  \n",
       "2  POSITIVE  \n",
       "3  POSITIVE  \n",
       "4  POSITIVE  "
      ]
     },
     "execution_count": 4,
     "metadata": {},
     "output_type": "execute_result"
    }
   ],
   "source": [
    "np.random.seed(37) # To make notebook stable across runs\n",
    "\n",
    "print(data.shape)\n",
    "data.head()"
   ]
  },
  {
   "cell_type": "markdown",
   "id": "819e5a23",
   "metadata": {
    "papermill": {
     "duration": 0.027234,
     "end_time": "2023-08-08T11:01:17.450297",
     "exception": false,
     "start_time": "2023-08-08T11:01:17.423063",
     "status": "completed"
    },
    "tags": []
   },
   "source": [
    "* The data has 5 columns with the column 'sentiment' as the target variable.\n",
    "* And, the column 'reviewerName' will be used as feature variable.\n",
    "* Moreover, columns 'movieid' and 'reviewerName' don't play a key role in sentiment analysis"
   ]
  },
  {
   "cell_type": "code",
   "execution_count": 5,
   "id": "e26ab109",
   "metadata": {
    "_cell_guid": "263c3bf7-8dfe-4f36-b593-aeb78118951f",
    "_uuid": "9442b6a2-5e5b-41c6-aa69-6e648fbafbc0",
    "collapsed": false,
    "execution": {
     "iopub.execute_input": "2023-08-08T11:01:17.505973Z",
     "iopub.status.busy": "2023-08-08T11:01:17.505561Z",
     "iopub.status.idle": "2023-08-08T11:01:17.510489Z",
     "shell.execute_reply": "2023-08-08T11:01:17.509312Z"
    },
    "jupyter": {
     "outputs_hidden": false
    },
    "papermill": {
     "duration": 0.035582,
     "end_time": "2023-08-08T11:01:17.512921",
     "exception": false,
     "start_time": "2023-08-08T11:01:17.477339",
     "status": "completed"
    },
    "tags": []
   },
   "outputs": [],
   "source": [
    "#movies = pd.read_csv('/kaggle/input/sentiment-prediction-on-movie-reviews/movies.csv')"
   ]
  },
  {
   "cell_type": "code",
   "execution_count": 6,
   "id": "012b0aa9",
   "metadata": {
    "_cell_guid": "cde6928d-72d0-4eaf-bc26-b87aeb547672",
    "_uuid": "af9b63e3-0a32-4883-af08-0deb8bc7b0af",
    "collapsed": false,
    "execution": {
     "iopub.execute_input": "2023-08-08T11:01:17.568474Z",
     "iopub.status.busy": "2023-08-08T11:01:17.567903Z",
     "iopub.status.idle": "2023-08-08T11:01:17.573331Z",
     "shell.execute_reply": "2023-08-08T11:01:17.572063Z"
    },
    "jupyter": {
     "outputs_hidden": false
    },
    "papermill": {
     "duration": 0.036759,
     "end_time": "2023-08-08T11:01:17.576029",
     "exception": false,
     "start_time": "2023-08-08T11:01:17.539270",
     "status": "completed"
    },
    "tags": []
   },
   "outputs": [],
   "source": [
    "# # Merging training and movies datasets\n",
    "# data_movies_merged = pd.merge(data, movies, on='movieid',how='inner')\n",
    "# data_movies_merged.head()"
   ]
  },
  {
   "cell_type": "markdown",
   "id": "e3ebde8c",
   "metadata": {
    "papermill": {
     "duration": 0.027966,
     "end_time": "2023-08-08T11:01:17.630926",
     "exception": false,
     "start_time": "2023-08-08T11:01:17.602960",
     "status": "completed"
    },
    "tags": []
   },
   "source": [
    "* Movies dataset was loaded and examined but not used in this project"
   ]
  },
  {
   "cell_type": "code",
   "execution_count": 7,
   "id": "c75a6cb9",
   "metadata": {
    "_cell_guid": "cac3a587-0bbd-42fd-a38e-d1c740064f05",
    "_uuid": "4dfd6200-2d47-44e7-be41-187f0393d332",
    "collapsed": false,
    "execution": {
     "iopub.execute_input": "2023-08-08T11:01:17.692334Z",
     "iopub.status.busy": "2023-08-08T11:01:17.691771Z",
     "iopub.status.idle": "2023-08-08T11:01:17.931931Z",
     "shell.execute_reply": "2023-08-08T11:01:17.930186Z"
    },
    "jupyter": {
     "outputs_hidden": false
    },
    "papermill": {
     "duration": 0.275029,
     "end_time": "2023-08-08T11:01:17.934700",
     "exception": false,
     "start_time": "2023-08-08T11:01:17.659671",
     "status": "completed"
    },
    "tags": []
   },
   "outputs": [
    {
     "name": "stdout",
     "output_type": "stream",
     "text": [
      "<class 'pandas.core.frame.DataFrame'>\n",
      "RangeIndex: 162758 entries, 0 to 162757\n",
      "Data columns (total 5 columns):\n",
      " #   Column              Non-Null Count   Dtype \n",
      "---  ------              --------------   ----- \n",
      " 0   movieid             162758 non-null  object\n",
      " 1   reviewerName        162758 non-null  object\n",
      " 2   isFrequentReviewer  162758 non-null  bool  \n",
      " 3   reviewText          156311 non-null  object\n",
      " 4   sentiment           162758 non-null  object\n",
      "dtypes: bool(1), object(4)\n",
      "memory usage: 5.1+ MB\n"
     ]
    }
   ],
   "source": [
    "# Examining the dataset\n",
    "\n",
    "data.info()"
   ]
  },
  {
   "cell_type": "markdown",
   "id": "54c998fd",
   "metadata": {
    "papermill": {
     "duration": 0.02627,
     "end_time": "2023-08-08T11:01:17.988553",
     "exception": false,
     "start_time": "2023-08-08T11:01:17.962283",
     "status": "completed"
    },
    "tags": []
   },
   "source": [
    "* There are 162,758 rows in dataset.\n",
    "* All columns ( 5 in total ), are text (object), except 'isFrequentReviewer', which is Boolean."
   ]
  },
  {
   "cell_type": "code",
   "execution_count": 8,
   "id": "c9e1b7b2",
   "metadata": {
    "_cell_guid": "3ea03617-b13e-4ad2-b4ea-7a9579645f8d",
    "_uuid": "31d077c9-c7b7-4210-bdf2-0b85b2777c4c",
    "collapsed": false,
    "execution": {
     "iopub.execute_input": "2023-08-08T11:01:18.048476Z",
     "iopub.status.busy": "2023-08-08T11:01:18.046815Z",
     "iopub.status.idle": "2023-08-08T11:01:18.269891Z",
     "shell.execute_reply": "2023-08-08T11:01:18.268663Z"
    },
    "jupyter": {
     "outputs_hidden": false
    },
    "papermill": {
     "duration": 0.255917,
     "end_time": "2023-08-08T11:01:18.272900",
     "exception": false,
     "start_time": "2023-08-08T11:01:18.016983",
     "status": "completed"
    },
    "tags": []
   },
   "outputs": [
    {
     "data": {
      "text/plain": [
       "movieid                  0\n",
       "reviewerName             0\n",
       "isFrequentReviewer       0\n",
       "reviewText            6447\n",
       "sentiment                0\n",
       "dtype: int64"
      ]
     },
     "execution_count": 8,
     "metadata": {},
     "output_type": "execute_result"
    }
   ],
   "source": [
    "# Checking for missing values\n",
    "\n",
    "data.isnull().sum() # Column 'reviewText' has 6447 null values"
   ]
  },
  {
   "cell_type": "code",
   "execution_count": 9,
   "id": "0bb00138",
   "metadata": {
    "_cell_guid": "29e7257b-7f0f-4ee3-afc1-6fde9a3992d1",
    "_uuid": "71f48ae2-cec1-4494-8588-c7c99d1320a7",
    "collapsed": false,
    "execution": {
     "iopub.execute_input": "2023-08-08T11:01:18.329380Z",
     "iopub.status.busy": "2023-08-08T11:01:18.328873Z",
     "iopub.status.idle": "2023-08-08T11:01:18.560345Z",
     "shell.execute_reply": "2023-08-08T11:01:18.558916Z"
    },
    "jupyter": {
     "outputs_hidden": false
    },
    "papermill": {
     "duration": 0.263726,
     "end_time": "2023-08-08T11:01:18.563620",
     "exception": false,
     "start_time": "2023-08-08T11:01:18.299894",
     "status": "completed"
    },
    "tags": []
   },
   "outputs": [],
   "source": [
    "data = data.fillna('') # Filling the missing values with an empty string"
   ]
  },
  {
   "cell_type": "markdown",
   "id": "caf639c4",
   "metadata": {
    "papermill": {
     "duration": 0.026497,
     "end_time": "2023-08-08T11:01:18.617526",
     "exception": false,
     "start_time": "2023-08-08T11:01:18.591029",
     "status": "completed"
    },
    "tags": []
   },
   "source": [
    "Filling missing values with an empty string seemed to be best choice in this analysis."
   ]
  },
  {
   "cell_type": "code",
   "execution_count": 10,
   "id": "dea2719b",
   "metadata": {
    "_cell_guid": "67ca74f5-74a6-40a6-bbe6-a800d412c259",
    "_uuid": "6fc1b959-6966-4b46-af53-34851b3d34d2",
    "collapsed": false,
    "execution": {
     "iopub.execute_input": "2023-08-08T11:01:18.676348Z",
     "iopub.status.busy": "2023-08-08T11:01:18.675622Z",
     "iopub.status.idle": "2023-08-08T11:01:18.687183Z",
     "shell.execute_reply": "2023-08-08T11:01:18.685903Z"
    },
    "jupyter": {
     "outputs_hidden": false
    },
    "papermill": {
     "duration": 0.045542,
     "end_time": "2023-08-08T11:01:18.689865",
     "exception": false,
     "start_time": "2023-08-08T11:01:18.644323",
     "status": "completed"
    },
    "tags": []
   },
   "outputs": [
    {
     "name": "stdout",
     "output_type": "stream",
     "text": [
      "Shape of label vector: (162758,)\n",
      "Shape of feature vector: (162758,)\n"
     ]
    }
   ],
   "source": [
    "# Splitting dataset into feature matrix X_text and label vector y\n",
    "X_text = np.array(data[\"reviewText\"])\n",
    "y = np.array(data[\"sentiment\"])\n",
    "\n",
    "print(\"Shape of label vector:\", y.shape)\n",
    "print(\"Shape of feature vector:\", X_text.shape) # Feature matrix is vector, as it is not transformed yet"
   ]
  },
  {
   "cell_type": "code",
   "execution_count": 11,
   "id": "2201c4ea",
   "metadata": {
    "execution": {
     "iopub.execute_input": "2023-08-08T11:01:18.746111Z",
     "iopub.status.busy": "2023-08-08T11:01:18.745093Z",
     "iopub.status.idle": "2023-08-08T11:01:18.751324Z",
     "shell.execute_reply": "2023-08-08T11:01:18.750387Z"
    },
    "papermill": {
     "duration": 0.037251,
     "end_time": "2023-08-08T11:01:18.753966",
     "exception": false,
     "start_time": "2023-08-08T11:01:18.716715",
     "status": "completed"
    },
    "tags": []
   },
   "outputs": [
    {
     "name": "stdout",
     "output_type": "stream",
     "text": [
      "<class 'numpy.ndarray'>\n",
      "<class 'numpy.ndarray'>\n"
     ]
    }
   ],
   "source": [
    "print(type(X_text)) # Self Reference\n",
    "print(type(y)) # Self Reference"
   ]
  },
  {
   "cell_type": "markdown",
   "id": "a96719a1",
   "metadata": {
    "papermill": {
     "duration": 0.026795,
     "end_time": "2023-08-08T11:01:18.807747",
     "exception": false,
     "start_time": "2023-08-08T11:01:18.780952",
     "status": "completed"
    },
    "tags": []
   },
   "source": [
    "Both feature matrix and label vector, are of class numpy.ndarray."
   ]
  },
  {
   "cell_type": "code",
   "execution_count": 12,
   "id": "7c94a462",
   "metadata": {
    "execution": {
     "iopub.execute_input": "2023-08-08T11:01:18.865666Z",
     "iopub.status.busy": "2023-08-08T11:01:18.865270Z",
     "iopub.status.idle": "2023-08-08T11:01:18.897367Z",
     "shell.execute_reply": "2023-08-08T11:01:18.896230Z"
    },
    "papermill": {
     "duration": 0.063878,
     "end_time": "2023-08-08T11:01:18.900389",
     "exception": false,
     "start_time": "2023-08-08T11:01:18.836511",
     "status": "completed"
    },
    "tags": []
   },
   "outputs": [
    {
     "name": "stdout",
     "output_type": "stream",
     "text": [
      "\n",
      "Discrete value counts in targer vector\n",
      "\n"
     ]
    },
    {
     "data": {
      "text/plain": [
       "POSITIVE    108761\n",
       "NEGATIVE     53997\n",
       "Name: sentiment, dtype: int64"
      ]
     },
     "execution_count": 12,
     "metadata": {},
     "output_type": "execute_result"
    }
   ],
   "source": [
    "print(\"\\nDiscrete value counts in targer vector\\n\")\n",
    "data[\"sentiment\"].value_counts()"
   ]
  },
  {
   "cell_type": "markdown",
   "id": "e8b3a859",
   "metadata": {
    "papermill": {
     "duration": 0.028422,
     "end_time": "2023-08-08T11:01:18.956504",
     "exception": false,
     "start_time": "2023-08-08T11:01:18.928082",
     "status": "completed"
    },
    "tags": []
   },
   "source": [
    "**It is clearly visible that Positive class outnumbers the Negative class.**"
   ]
  },
  {
   "cell_type": "code",
   "execution_count": 13,
   "id": "810243c7",
   "metadata": {
    "execution": {
     "iopub.execute_input": "2023-08-08T11:01:19.015284Z",
     "iopub.status.busy": "2023-08-08T11:01:19.014847Z",
     "iopub.status.idle": "2023-08-08T11:01:19.279031Z",
     "shell.execute_reply": "2023-08-08T11:01:19.277857Z"
    },
    "papermill": {
     "duration": 0.297037,
     "end_time": "2023-08-08T11:01:19.281524",
     "exception": false,
     "start_time": "2023-08-08T11:01:18.984487",
     "status": "completed"
    },
    "tags": []
   },
   "outputs": [
    {
     "data": {
      "image/png": "[encoded data removed]",
      "text/plain": [
       "<Figure size 300x300 with 1 Axes>"
      ]
     },
     "metadata": {},
     "output_type": "display_data"
    }
   ],
   "source": [
    "### Plotting the class counts as a Bar graph\n",
    "\n",
    "plt.figure(figsize=(3,3))\n",
    "plt.bar(['Positive', 'Negative'], [108761, 53997], color=['tab:green'], width=0.3)\n",
    "plt.xlabel(\"Sentiment\")\n",
    "plt.ylabel(\"Count\")\n",
    "plt.title(\"Sentiment data distribution\")\n",
    "plt.show()"
   ]
  },
  {
   "cell_type": "code",
   "execution_count": 14,
   "id": "ae6bfc3f",
   "metadata": {
    "execution": {
     "iopub.execute_input": "2023-08-08T11:01:19.338934Z",
     "iopub.status.busy": "2023-08-08T11:01:19.338520Z",
     "iopub.status.idle": "2023-08-08T11:01:19.353533Z",
     "shell.execute_reply": "2023-08-08T11:01:19.352205Z"
    },
    "papermill": {
     "duration": 0.046832,
     "end_time": "2023-08-08T11:01:19.356291",
     "exception": false,
     "start_time": "2023-08-08T11:01:19.309459",
     "status": "completed"
    },
    "tags": []
   },
   "outputs": [
    {
     "name": "stdout",
     "output_type": "stream",
     "text": [
      "False    113189\n",
      "True      49569\n",
      "Name: isFrequentReviewer, dtype: int64\n",
      "\n",
      "Number of frequent reviewrs: 49569\n"
     ]
    }
   ],
   "source": [
    "## Distribution of Frequent Reviewers ##\n",
    "\n",
    "print(data[\"isFrequentReviewer\"].value_counts())\n",
    "print(\"\\nNumber of frequent reviewrs:\", data[\"isFrequentReviewer\"].value_counts()[1])"
   ]
  },
  {
   "cell_type": "markdown",
   "id": "6d2c5a01",
   "metadata": {
    "papermill": {
     "duration": 0.027812,
     "end_time": "2023-08-08T11:01:19.412015",
     "exception": false,
     "start_time": "2023-08-08T11:01:19.384203",
     "status": "completed"
    },
    "tags": []
   },
   "source": [
    "**There are 49,569 frequent reviewers.**"
   ]
  },
  {
   "cell_type": "code",
   "execution_count": 15,
   "id": "267c79e5",
   "metadata": {
    "execution": {
     "iopub.execute_input": "2023-08-08T11:01:19.470950Z",
     "iopub.status.busy": "2023-08-08T11:01:19.470544Z",
     "iopub.status.idle": "2023-08-08T11:01:19.475968Z",
     "shell.execute_reply": "2023-08-08T11:01:19.474771Z"
    },
    "papermill": {
     "duration": 0.038101,
     "end_time": "2023-08-08T11:01:19.478242",
     "exception": false,
     "start_time": "2023-08-08T11:01:19.440141",
     "status": "completed"
    },
    "tags": []
   },
   "outputs": [],
   "source": [
    "# ### Adding 'isFrequentReviewer' as extra feature ###\n",
    "\n",
    "# freq = np.array(data[\"isFrequentReviewer\"])\n",
    "\n",
    "# # #Label encoding vector freq ( isFrequentReviewer )\n",
    "# # enc = LabelEncoder()\n",
    "\n",
    "# # freq = enc.fit_transform(freq)\n",
    "# freq.reshape(-1, 1)\n",
    "# freq = np.squeeze(freq)\n",
    "\n",
    "# print(\"Label vector:\", freq) #New freq Vector\n"
   ]
  },
  {
   "cell_type": "markdown",
   "id": "af4a71c6",
   "metadata": {
    "papermill": {
     "duration": 0.028538,
     "end_time": "2023-08-08T11:01:19.535138",
     "exception": false,
     "start_time": "2023-08-08T11:01:19.506600",
     "status": "completed"
    },
    "tags": []
   },
   "source": [
    "**The column 'isFrequentReviewer', is logical to be added to the feature matrix, but was not added due to difficulty in pre-processing.**"
   ]
  },
  {
   "cell_type": "code",
   "execution_count": 16,
   "id": "8de57421",
   "metadata": {
    "execution": {
     "iopub.execute_input": "2023-08-08T11:01:19.593628Z",
     "iopub.status.busy": "2023-08-08T11:01:19.592526Z",
     "iopub.status.idle": "2023-08-08T11:01:19.598536Z",
     "shell.execute_reply": "2023-08-08T11:01:19.597439Z"
    },
    "papermill": {
     "duration": 0.038135,
     "end_time": "2023-08-08T11:01:19.601353",
     "exception": false,
     "start_time": "2023-08-08T11:01:19.563218",
     "status": "completed"
    },
    "tags": []
   },
   "outputs": [],
   "source": [
    "# ### Joining the 'freq' vector to the X_vectorized feature matrix ###\n",
    "\n",
    "# X_text = np.concatenate((X_text.reshape(-1,1), freq.reshape(-1,1)), axis=1)"
   ]
  },
  {
   "cell_type": "markdown",
   "id": "394d1565",
   "metadata": {
    "papermill": {
     "duration": 0.029795,
     "end_time": "2023-08-08T11:01:19.659055",
     "exception": false,
     "start_time": "2023-08-08T11:01:19.629260",
     "status": "completed"
    },
    "tags": []
   },
   "source": [
    "**Text Processing**"
   ]
  },
  {
   "cell_type": "code",
   "execution_count": 17,
   "id": "d279fe62",
   "metadata": {
    "_cell_guid": "7c5e9cc6-2493-4de3-88a7-1cc65312a3f9",
    "_uuid": "26d52db8-d371-4c68-a3e4-8734dec68600",
    "collapsed": false,
    "execution": {
     "iopub.execute_input": "2023-08-08T11:01:19.718272Z",
     "iopub.status.busy": "2023-08-08T11:01:19.717539Z",
     "iopub.status.idle": "2023-08-08T11:01:36.292935Z",
     "shell.execute_reply": "2023-08-08T11:01:36.291747Z"
    },
    "jupyter": {
     "outputs_hidden": false
    },
    "papermill": {
     "duration": 16.607744,
     "end_time": "2023-08-08T11:01:36.295503",
     "exception": false,
     "start_time": "2023-08-08T11:01:19.687759",
     "status": "completed"
    },
    "tags": []
   },
   "outputs": [
    {
     "name": "stdout",
     "output_type": "stream",
     "text": [
      "First review sentence:\n",
      "\n",
      "with a cast that reads like the vogue oscar party guest list, valentine's day should have been can't-miss cinema instead of standard hollywood schmaltz.\n",
      "\n",
      "First review sentence without numbers:\n",
      "\n",
      "with a cast that reads like the vogue oscar party guest list, valentine's day should have been can't-miss cinema instead of standard hollywood schmaltz.\n",
      "\n",
      "Shape of Vectorized feature matrix: (1, 1179785) \n",
      "\n",
      "First review sentence vectorized:\n",
      "   (0, 674060)\t0.29614253294221665\n",
      "  (0, 987667)\t0.2279534969969309\n",
      "  (0, 374081)\t0.31381733124511263\n",
      "  (0, 202001)\t0.31381733124511263\n",
      "  (0, 878972)\t0.31381733124511263\n",
      "  (0, 679288)\t0.1475270007099114\n",
      "  (0, 883512)\t0.17554089322781144\n",
      "  (0, 914757)\t0.2858034387272126\n",
      "  (0, 475856)\t0.29614253294221665\n",
      "  (0, 637708)\t0.16910753471649662\n",
      "  (0, 673994)\t0.181259067888113\n",
      "  (0, 987514)\t0.17542856113486752\n",
      "  (0, 374045)\t0.2258449125001981\n",
      "  (0, 201998)\t0.255102922191255\n",
      "  (0, 675710)\t0.08249320667819579\n",
      "  (0, 876885)\t0.10860933087109752\n",
      "  (0, 914750)\t0.26812864042431656\n",
      "  (0, 475805)\t0.21005981886203942 \n",
      "\n",
      "Label vector: [1 0 1 ... 1 0 1]\n"
     ]
    }
   ],
   "source": [
    "### Text Processing ###\n",
    "\n",
    "\n",
    "X = [] \n",
    "X = [x.lower() for x in X_text]  # Converting the whole corpus into lowercase\n",
    "\n",
    "\n",
    "pattern = r'[0-9]' # Initialising variable 'pattern' with a pattern that captures a number\n",
    "X_without_digits = [re.sub(pattern, '', x) for x in X] # Substituting all the numbers with an empty string\n",
    "\n",
    "print(\"First review sentence:\\n\\n\" + X[1] + \"\\n\")\n",
    "print(\"First review sentence without numbers:\\n\\n\" + X_without_digits[1] + \"\\n\")    \n",
    "\n",
    "## Converting text to numerical attributes ##\n",
    "\n",
    "# Using Tf-idf Vectorizer to convert each sentence into numerical features\n",
    "vectorizer = TfidfVectorizer(stop_words=\"english\", ngram_range=(1, 2), token_pattern=r'\\b\\w+\\b', min_df=1)\n",
    "X_vectorized = vectorizer.fit_transform(X_without_digits) #New training feature matrix\n",
    "\n",
    "print(\"Shape of Vectorized feature matrix:\", X_vectorized[0].shape, \"\\n\")\n",
    "print(\"First review sentence vectorized:\\n\", X_vectorized[0], \"\\n\")\n",
    "\n",
    "#Label encoding vector y\n",
    "enc = LabelEncoder()\n",
    "\n",
    "y_int = enc.fit_transform(y)\n",
    "print(\"Label vector:\", y_int) #New Label Vector \n",
    "#Positive: 1, Negative: 0"
   ]
  },
  {
   "cell_type": "markdown",
   "id": "34aa85e1",
   "metadata": {
    "papermill": {
     "duration": 0.02932,
     "end_time": "2023-08-08T11:01:36.354118",
     "exception": false,
     "start_time": "2023-08-08T11:01:36.324798",
     "status": "completed"
    },
    "tags": []
   },
   "source": [
    "* Text processing steps used: \n",
    "1. Convertng the corpus (all reviews) into lowercase.\n",
    "2. Removing all the digits, using regular expressions library.\n",
    "3. Converting the corpus into a document-term matrix (into numerical features) using Tf-idf vectorizer.\n",
    "4. Tokens of 1 and 2 words are being captured using parameter 'ngram_range'.\n",
    "5. Using 'max_features' parameter to limit the number of features being taken into account. # Skipped step --- Using all features\n",
    "6. Transforming the label vector using LabelEncoder, as it contains categorical features (POSITIVE, NEGATIVE).\n",
    "7. POSITIVE replaced by 1, and NEGATIVE by 0."
   ]
  },
  {
   "cell_type": "code",
   "execution_count": 18,
   "id": "3fadaa47",
   "metadata": {
    "execution": {
     "iopub.execute_input": "2023-08-08T11:01:36.417072Z",
     "iopub.status.busy": "2023-08-08T11:01:36.416371Z",
     "iopub.status.idle": "2023-08-08T11:01:36.422595Z",
     "shell.execute_reply": "2023-08-08T11:01:36.421120Z"
    },
    "papermill": {
     "duration": 0.041699,
     "end_time": "2023-08-08T11:01:36.425446",
     "exception": false,
     "start_time": "2023-08-08T11:01:36.383747",
     "status": "completed"
    },
    "tags": []
   },
   "outputs": [
    {
     "name": "stdout",
     "output_type": "stream",
     "text": [
      "(162758, 1179785)\n",
      "(162758,)\n"
     ]
    }
   ],
   "source": [
    "print(X_vectorized.shape) # Self Reference\n",
    "print(y_int.shape) # Self Reference"
   ]
  },
  {
   "cell_type": "code",
   "execution_count": 19,
   "id": "79fee830",
   "metadata": {
    "execution": {
     "iopub.execute_input": "2023-08-08T11:01:36.487374Z",
     "iopub.status.busy": "2023-08-08T11:01:36.486930Z",
     "iopub.status.idle": "2023-08-08T11:01:39.463727Z",
     "shell.execute_reply": "2023-08-08T11:01:39.462347Z"
    },
    "papermill": {
     "duration": 3.011321,
     "end_time": "2023-08-08T11:01:39.466471",
     "exception": false,
     "start_time": "2023-08-08T11:01:36.455150",
     "status": "completed"
    },
    "tags": []
   },
   "outputs": [
    {
     "data": {
      "image/png": "[encoded data removed]",
      "text/plain": [
       "<Figure size 1900x400 with 1 Axes>"
      ]
     },
     "metadata": {},
     "output_type": "display_data"
    }
   ],
   "source": [
    "# Getting the feature names (Words)\n",
    "words = vectorizer.get_feature_names_out()\n",
    "\n",
    "# Calculating word frequencies by summing along all rows\n",
    "word_freq = X_vectorized.sum(axis=0).A1\n",
    "\n",
    "# Sorting words based on their frequencies\n",
    "sorted_indices = word_freq.argsort()[::-1]\n",
    "sorted_words = [words[index] for index in sorted_indices]\n",
    "sorted_freq = word_freq[sorted_indices]\n",
    "\n",
    "# Plotting the top 10 most frequent words\n",
    "plt.figure(figsize=(19, 4))\n",
    "plt.bar(sorted_words[:15], sorted_freq[:15])\n",
    "plt.xlabel('Words')\n",
    "plt.ylabel('Frequency')\n",
    "plt.title('Top 15 Most Frequent Words')\n",
    "plt.show()"
   ]
  },
  {
   "cell_type": "markdown",
   "id": "dd6e34de",
   "metadata": {
    "papermill": {
     "duration": 0.028409,
     "end_time": "2023-08-08T11:01:39.524031",
     "exception": false,
     "start_time": "2023-08-08T11:01:39.495622",
     "status": "completed"
    },
    "tags": []
   },
   "source": [
    "* Since there is a class imbalance, there are more positive words which show up in the above chart like 'like', 'good words', 'best' and so on."
   ]
  },
  {
   "cell_type": "markdown",
   "id": "80706d5c",
   "metadata": {
    "papermill": {
     "duration": 0.028715,
     "end_time": "2023-08-08T11:01:39.581247",
     "exception": false,
     "start_time": "2023-08-08T11:01:39.552532",
     "status": "completed"
    },
    "tags": []
   },
   "source": [
    "**SMOTE**"
   ]
  },
  {
   "cell_type": "code",
   "execution_count": 20,
   "id": "cdfb7a30",
   "metadata": {
    "execution": {
     "iopub.execute_input": "2023-08-08T11:01:39.641178Z",
     "iopub.status.busy": "2023-08-08T11:01:39.640745Z",
     "iopub.status.idle": "2023-08-08T11:15:08.725047Z",
     "shell.execute_reply": "2023-08-08T11:15:08.723751Z"
    },
    "papermill": {
     "duration": 809.147338,
     "end_time": "2023-08-08T11:15:08.757398",
     "exception": false,
     "start_time": "2023-08-08T11:01:39.610060",
     "status": "completed"
    },
    "tags": []
   },
   "outputs": [
    {
     "name": "stdout",
     "output_type": "stream",
     "text": [
      "Time elapsed: 809.08 s\n"
     ]
    }
   ],
   "source": [
    "### Taking care of Class Imbalance using SMOTE ###\n",
    "# (as there is 33-67 class imbalance)\n",
    "\n",
    "start = time.time()\n",
    "\n",
    "oversampler = SMOTE()\n",
    "X_vectorized, y_int = oversampler.fit_resample(X_vectorized, y_int)\n",
    "\n",
    "end = time.time()\n",
    "\n",
    "print(\"Time elapsed: %0.2f\" % (end-start) + \" s\") # Self Reference"
   ]
  },
  {
   "cell_type": "markdown",
   "id": "fe1a18b6",
   "metadata": {
    "papermill": {
     "duration": 0.02862,
     "end_time": "2023-08-08T11:15:08.814709",
     "exception": false,
     "start_time": "2023-08-08T11:15:08.786089",
     "status": "completed"
    },
    "tags": []
   },
   "source": [
    "* SMOTE - Synthetic Minority Oversampling TEchnique\n",
    "* SMOTE is used for oversamplig the minority class (Negative) as there is 33-67 class imbalance in the dataset."
   ]
  },
  {
   "cell_type": "code",
   "execution_count": 21,
   "id": "f3c48e72",
   "metadata": {
    "execution": {
     "iopub.execute_input": "2023-08-08T11:15:08.875305Z",
     "iopub.status.busy": "2023-08-08T11:15:08.874908Z",
     "iopub.status.idle": "2023-08-08T11:15:08.880101Z",
     "shell.execute_reply": "2023-08-08T11:15:08.879133Z"
    },
    "papermill": {
     "duration": 0.039362,
     "end_time": "2023-08-08T11:15:08.883304",
     "exception": false,
     "start_time": "2023-08-08T11:15:08.843942",
     "status": "completed"
    },
    "tags": []
   },
   "outputs": [
    {
     "name": "stdout",
     "output_type": "stream",
     "text": [
      "Shape of oversampled feature matrix: (217522, 1179785)\n",
      "Shape of oversampled label vector: (217522,)\n"
     ]
    }
   ],
   "source": [
    "print(\"Shape of oversampled feature matrix:\", X_vectorized.shape)\n",
    "print(\"Shape of oversampled label vector:\", y_int.shape)"
   ]
  },
  {
   "cell_type": "markdown",
   "id": "5304f368",
   "metadata": {
    "papermill": {
     "duration": 0.028788,
     "end_time": "2023-08-08T11:15:08.941551",
     "exception": false,
     "start_time": "2023-08-08T11:15:08.912763",
     "status": "completed"
    },
    "tags": []
   },
   "source": [
    "**Train-Test-Split**"
   ]
  },
  {
   "cell_type": "code",
   "execution_count": 22,
   "id": "f27fb480",
   "metadata": {
    "execution": {
     "iopub.execute_input": "2023-08-08T11:15:09.001765Z",
     "iopub.status.busy": "2023-08-08T11:15:09.000740Z",
     "iopub.status.idle": "2023-08-08T11:15:09.047112Z",
     "shell.execute_reply": "2023-08-08T11:15:09.046035Z"
    },
    "papermill": {
     "duration": 0.078958,
     "end_time": "2023-08-08T11:15:09.049623",
     "exception": false,
     "start_time": "2023-08-08T11:15:08.970665",
     "status": "completed"
    },
    "tags": []
   },
   "outputs": [
    {
     "name": "stdout",
     "output_type": "stream",
     "text": [
      "(174017, 1179785)\n",
      "(174017,)\n"
     ]
    }
   ],
   "source": [
    "### Splitting the dataset into training and test sets ###\n",
    "\n",
    "X_train, X_test, y_train, y_test = train_test_split(X_vectorized, y_int, test_size=0.2, random_state=37)\n",
    "print(X_train.shape)\n",
    "print(y_train.shape)"
   ]
  },
  {
   "cell_type": "code",
   "execution_count": 23,
   "id": "52359d00",
   "metadata": {
    "execution": {
     "iopub.execute_input": "2023-08-08T11:15:09.109910Z",
     "iopub.status.busy": "2023-08-08T11:15:09.109099Z",
     "iopub.status.idle": "2023-08-08T11:15:09.115138Z",
     "shell.execute_reply": "2023-08-08T11:15:09.113910Z"
    },
    "papermill": {
     "duration": 0.03895,
     "end_time": "2023-08-08T11:15:09.117577",
     "exception": false,
     "start_time": "2023-08-08T11:15:09.078627",
     "status": "completed"
    },
    "tags": []
   },
   "outputs": [
    {
     "name": "stdout",
     "output_type": "stream",
     "text": [
      "Shape of final training feature matrix: (174017, 1179785)\n",
      "Shape of final training label vector: (174017,)\n"
     ]
    }
   ],
   "source": [
    "print(\"Shape of final training feature matrix:\", X_train.shape)\n",
    "print(\"Shape of final training label vector:\", y_train.shape)"
   ]
  },
  {
   "cell_type": "markdown",
   "id": "e34446c9",
   "metadata": {
    "papermill": {
     "duration": 0.028576,
     "end_time": "2023-08-08T11:15:09.175169",
     "exception": false,
     "start_time": "2023-08-08T11:15:09.146593",
     "status": "completed"
    },
    "tags": []
   },
   "source": [
    "**Shape of final training feature matrix: (174017, 1179785)\n",
    "Shape of final training label vector: (174017,)**"
   ]
  },
  {
   "cell_type": "code",
   "execution_count": 24,
   "id": "45ecd43c",
   "metadata": {
    "_cell_guid": "4662467d-7a5c-4427-b997-1af4605f2b14",
    "_uuid": "a75bb8e6-b8c3-4789-9c68-1164813b205b",
    "collapsed": false,
    "execution": {
     "iopub.execute_input": "2023-08-08T11:15:09.238201Z",
     "iopub.status.busy": "2023-08-08T11:15:09.237748Z",
     "iopub.status.idle": "2023-08-08T11:15:09.243506Z",
     "shell.execute_reply": "2023-08-08T11:15:09.242179Z"
    },
    "jupyter": {
     "outputs_hidden": false
    },
    "papermill": {
     "duration": 0.039508,
     "end_time": "2023-08-08T11:15:09.245964",
     "exception": false,
     "start_time": "2023-08-08T11:15:09.206456",
     "status": "completed"
    },
    "tags": []
   },
   "outputs": [],
   "source": [
    "### Feature Scaling ###"
   ]
  },
  {
   "cell_type": "markdown",
   "id": "5f110f4c",
   "metadata": {
    "papermill": {
     "duration": 0.02869,
     "end_time": "2023-08-08T11:15:09.303429",
     "exception": false,
     "start_time": "2023-08-08T11:15:09.274739",
     "status": "completed"
    },
    "tags": []
   },
   "source": [
    "**Feature scaling is skipped as Tf-idf Vectorizer has an advantage over**\n",
    "**Count Vectorizer as it already takes into account term frequency and inverse document frequency,**\n",
    "**therefore, resulting into float values.**"
   ]
  },
  {
   "cell_type": "code",
   "execution_count": 25,
   "id": "c5323f2c",
   "metadata": {
    "_cell_guid": "6a410465-6ce7-48ac-9946-ca3dcba421f7",
    "_uuid": "c5678947-c004-428a-b593-75ead968c5e4",
    "collapsed": false,
    "execution": {
     "iopub.execute_input": "2023-08-08T11:15:09.363566Z",
     "iopub.status.busy": "2023-08-08T11:15:09.363122Z",
     "iopub.status.idle": "2023-08-08T11:15:09.367937Z",
     "shell.execute_reply": "2023-08-08T11:15:09.366742Z"
    },
    "jupyter": {
     "outputs_hidden": false
    },
    "papermill": {
     "duration": 0.038114,
     "end_time": "2023-08-08T11:15:09.370561",
     "exception": false,
     "start_time": "2023-08-08T11:15:09.332447",
     "status": "completed"
    },
    "tags": []
   },
   "outputs": [],
   "source": [
    "# #Dimensionality Reduction......\n",
    "# from sklearn.decomposition import TruncatedSVD\n",
    "# start = time.time()\n",
    "# tsvd = TruncatedSVD(n_components=100)\n",
    "# X_dim_red = tsvd.fit_transform(X)\n",
    "# end = time.time()\n",
    "# print(\"Time elapsed: %0.2f\" % (end-start)+\"s\")"
   ]
  },
  {
   "cell_type": "markdown",
   "id": "1486196a",
   "metadata": {
    "papermill": {
     "duration": 0.029742,
     "end_time": "2023-08-08T11:15:09.429902",
     "exception": false,
     "start_time": "2023-08-08T11:15:09.400160",
     "status": "completed"
    },
    "tags": []
   },
   "source": [
    "TruncatedSVD was used for dimensionality reduction but, after testing the performance of 3 models on full feature set, the whole matrix is being used."
   ]
  },
  {
   "cell_type": "code",
   "execution_count": 26,
   "id": "98cb259d",
   "metadata": {
    "_cell_guid": "70924a29-1f2e-4475-bbc6-8ae886b99830",
    "_uuid": "7a072ff6-5101-451c-9821-61b72f775d87",
    "collapsed": false,
    "execution": {
     "iopub.execute_input": "2023-08-08T11:15:09.490494Z",
     "iopub.status.busy": "2023-08-08T11:15:09.489759Z",
     "iopub.status.idle": "2023-08-08T11:15:09.494231Z",
     "shell.execute_reply": "2023-08-08T11:15:09.493066Z"
    },
    "jupyter": {
     "outputs_hidden": false
    },
    "papermill": {
     "duration": 0.03756,
     "end_time": "2023-08-08T11:15:09.496591",
     "exception": false,
     "start_time": "2023-08-08T11:15:09.459031",
     "status": "completed"
    },
    "tags": []
   },
   "outputs": [],
   "source": [
    "# #Taking care of Class Imbalance using class weights distribution\n",
    "# #(as outlook of train.csv shows that there is 33-67 class imbalance)\n",
    "\n",
    "# count_class_positive = pd.Series(y_train).value_counts()[1]\n",
    "# count_class_negative = pd.Series(y_train).value_counts()[0]\n",
    "# ratio = count_class_positive/count_class_negative\n",
    "# print(ratio)"
   ]
  },
  {
   "cell_type": "markdown",
   "id": "0ceeb5ac",
   "metadata": {
    "papermill": {
     "duration": 0.029355,
     "end_time": "2023-08-08T11:15:09.554944",
     "exception": false,
     "start_time": "2023-08-08T11:15:09.525589",
     "status": "completed"
    },
    "tags": []
   },
   "source": [
    "* class_weight in built parameters of models are more useful."
   ]
  },
  {
   "cell_type": "code",
   "execution_count": 27,
   "id": "be097a1d",
   "metadata": {
    "_cell_guid": "6974f864-6a60-49cb-9e87-4c9b45739f6f",
    "_uuid": "709a3ff4-3fb5-4f65-8734-752b2cab6db7",
    "collapsed": false,
    "execution": {
     "iopub.execute_input": "2023-08-08T11:15:09.616173Z",
     "iopub.status.busy": "2023-08-08T11:15:09.615733Z",
     "iopub.status.idle": "2023-08-08T11:15:09.620719Z",
     "shell.execute_reply": "2023-08-08T11:15:09.619561Z"
    },
    "jupyter": {
     "outputs_hidden": false
    },
    "papermill": {
     "duration": 0.038603,
     "end_time": "2023-08-08T11:15:09.623372",
     "exception": false,
     "start_time": "2023-08-08T11:15:09.584769",
     "status": "completed"
    },
    "tags": []
   },
   "outputs": [],
   "source": [
    "#Data Preprocessing ends......"
   ]
  },
  {
   "cell_type": "code",
   "execution_count": 28,
   "id": "bd9e17dc",
   "metadata": {
    "execution": {
     "iopub.execute_input": "2023-08-08T11:15:09.684765Z",
     "iopub.status.busy": "2023-08-08T11:15:09.684349Z",
     "iopub.status.idle": "2023-08-08T11:15:09.689688Z",
     "shell.execute_reply": "2023-08-08T11:15:09.688420Z"
    },
    "papermill": {
     "duration": 0.039008,
     "end_time": "2023-08-08T11:15:09.691927",
     "exception": false,
     "start_time": "2023-08-08T11:15:09.652919",
     "status": "completed"
    },
    "tags": []
   },
   "outputs": [],
   "source": [
    "f1_score_list = [] # Initialising an empty list for storing f1_score values\n",
    "time_taken = [] # Initialising an empty list for storing time taken by models to fit"
   ]
  },
  {
   "cell_type": "markdown",
   "id": "99b6af11",
   "metadata": {
    "papermill": {
     "duration": 0.030249,
     "end_time": "2023-08-08T11:15:09.751409",
     "exception": false,
     "start_time": "2023-08-08T11:15:09.721160",
     "status": "completed"
    },
    "tags": []
   },
   "source": [
    "# Support Vector Classifier"
   ]
  },
  {
   "cell_type": "code",
   "execution_count": 29,
   "id": "b5bbc10a",
   "metadata": {
    "execution": {
     "iopub.execute_input": "2023-08-08T11:15:09.811884Z",
     "iopub.status.busy": "2023-08-08T11:15:09.811440Z",
     "iopub.status.idle": "2023-08-08T11:15:10.928680Z",
     "shell.execute_reply": "2023-08-08T11:15:10.927165Z"
    },
    "papermill": {
     "duration": 1.150705,
     "end_time": "2023-08-08T11:15:10.931310",
     "exception": false,
     "start_time": "2023-08-08T11:15:09.780605",
     "status": "completed"
    },
    "tags": []
   },
   "outputs": [
    {
     "name": "stdout",
     "output_type": "stream",
     "text": [
      "              precision    recall  f1-score   support\n",
      "\n",
      "           0    0.69860   0.87285   0.77607     21605\n",
      "           1    0.83363   0.62849   0.71667     21900\n",
      "\n",
      "    accuracy                        0.74984     43505\n",
      "   macro avg    0.76611   0.75067   0.74637     43505\n",
      "weighted avg    0.76657   0.74984   0.74617     43505\n",
      "\n",
      "Time elapsed: 1.11 s\n"
     ]
    }
   ],
   "source": [
    "# Model 3 : Support Vector Classifier\n",
    "\n",
    "\n",
    "start = time.time()\n",
    "\n",
    "# model = SGDClassifier(alpha=0.013,\n",
    "#                       eta0=0.001,\n",
    "#                       learning_rate='adaptive',\n",
    "#                       max_iter=100,\n",
    "#                       random_state=37) # Parameters found from GridSearchCV\n",
    "\n",
    "model = SGDClassifier(random_state=37) # Default parameters are being used\n",
    "model.fit(X_train, y_train)\n",
    "\n",
    "y_pred = model.predict(X_test)\n",
    "print(classification_report(y_test, y_pred, digits=5))\n",
    "\n",
    "end = time.time()\n",
    "\n",
    "print(\"Time elapsed: %0.2f\" % (end-start)+\" s\")\n",
    "time_taken.append(end-start)"
   ]
  },
  {
   "cell_type": "markdown",
   "id": "4a4d5ab4",
   "metadata": {
    "papermill": {
     "duration": 0.029062,
     "end_time": "2023-08-08T11:15:10.990244",
     "exception": false,
     "start_time": "2023-08-08T11:15:10.961182",
     "status": "completed"
    },
    "tags": []
   },
   "source": [
    "SGDClassifier's default parameter are better than parameters found from grid search."
   ]
  },
  {
   "cell_type": "code",
   "execution_count": 30,
   "id": "f4732ee2",
   "metadata": {
    "execution": {
     "iopub.execute_input": "2023-08-08T11:15:11.053509Z",
     "iopub.status.busy": "2023-08-08T11:15:11.052756Z",
     "iopub.status.idle": "2023-08-08T11:15:11.375465Z",
     "shell.execute_reply": "2023-08-08T11:15:11.374235Z"
    },
    "papermill": {
     "duration": 0.357116,
     "end_time": "2023-08-08T11:15:11.378349",
     "exception": false,
     "start_time": "2023-08-08T11:15:11.021233",
     "status": "completed"
    },
    "tags": []
   },
   "outputs": [
    {
     "data": {
      "image/png": "[encoded data removed]",
      "text/plain": [
       "<Figure size 640x480 with 2 Axes>"
      ]
     },
     "metadata": {},
     "output_type": "display_data"
    }
   ],
   "source": [
    "### Confusion Matrix ###\n",
    "\n",
    "ConfusionMatrixDisplay.from_predictions(y_test, y_pred)\n",
    "plt.title('Support Vector Classifier : Confusion Matrix for Test set')\n",
    "plt.show()"
   ]
  },
  {
   "cell_type": "markdown",
   "id": "0a717465",
   "metadata": {
    "papermill": {
     "duration": 0.02991,
     "end_time": "2023-08-08T11:15:11.437853",
     "exception": false,
     "start_time": "2023-08-08T11:15:11.407943",
     "status": "completed"
    },
    "tags": []
   },
   "source": [
    "* False Negatives > False Positives"
   ]
  },
  {
   "cell_type": "code",
   "execution_count": 31,
   "id": "4236a5f5",
   "metadata": {
    "execution": {
     "iopub.execute_input": "2023-08-08T11:15:11.499556Z",
     "iopub.status.busy": "2023-08-08T11:15:11.498873Z",
     "iopub.status.idle": "2023-08-08T11:15:11.503314Z",
     "shell.execute_reply": "2023-08-08T11:15:11.502532Z"
    },
    "papermill": {
     "duration": 0.037951,
     "end_time": "2023-08-08T11:15:11.505487",
     "exception": false,
     "start_time": "2023-08-08T11:15:11.467536",
     "status": "completed"
    },
    "tags": []
   },
   "outputs": [],
   "source": [
    "# ### Grid Search for SGD Classifier ###\n",
    "\n",
    "# param_grid = {\n",
    "#                'alpha': [0.011, 0.013, 0.015],\n",
    "#                'max_iter': [100, 500],\n",
    "#                'eta0' : [1e-4, 1e-2, 1e-3],\n",
    "#                'learning_rate' : ['adaptive']#, 'invscaling', 'optimal', 'constant']\n",
    "# }\n",
    "\n",
    "# start = time.time()\n",
    "\n",
    "# grid_search = GridSearchCV(model, param_grid, n_jobs=-1, error_score='raise', scoring='f1', cv=3)\n",
    "# grid_search.fit(X_train, y_train)\n",
    "\n",
    "# end = time.time()\n",
    "\n",
    "# print(\"Time elapsed: %0.5f\" % (end-start) + \" s\")\n",
    "\n",
    "# grid_search.best_estimator_"
   ]
  },
  {
   "cell_type": "code",
   "execution_count": 32,
   "id": "b29fe667",
   "metadata": {
    "execution": {
     "iopub.execute_input": "2023-08-08T11:15:11.566979Z",
     "iopub.status.busy": "2023-08-08T11:15:11.566528Z",
     "iopub.status.idle": "2023-08-08T11:15:11.571185Z",
     "shell.execute_reply": "2023-08-08T11:15:11.570039Z"
    },
    "papermill": {
     "duration": 0.038659,
     "end_time": "2023-08-08T11:15:11.573607",
     "exception": false,
     "start_time": "2023-08-08T11:15:11.534948",
     "status": "completed"
    },
    "tags": []
   },
   "outputs": [],
   "source": [
    "# ### Cross validating performance of best estimator ###\n",
    "\n",
    "# scores = cross_val_score(model, X_train, y_train, cv=5)\n",
    "# print(\"Mean accuracy of best model on training data: %0.3f\" % scores.mean())"
   ]
  },
  {
   "cell_type": "code",
   "execution_count": 33,
   "id": "53e272ad",
   "metadata": {
    "execution": {
     "iopub.execute_input": "2023-08-08T11:15:11.634690Z",
     "iopub.status.busy": "2023-08-08T11:15:11.634250Z",
     "iopub.status.idle": "2023-08-08T11:15:11.679939Z",
     "shell.execute_reply": "2023-08-08T11:15:11.678607Z"
    },
    "papermill": {
     "duration": 0.079542,
     "end_time": "2023-08-08T11:15:11.682701",
     "exception": false,
     "start_time": "2023-08-08T11:15:11.603159",
     "status": "completed"
    },
    "tags": []
   },
   "outputs": [
    {
     "name": "stdout",
     "output_type": "stream",
     "text": [
      "F1 score of Support Vector Classifier on test data is: 0.750\n"
     ]
    }
   ],
   "source": [
    "print(\"F1 score of Support Vector Classifier on test data is: %0.3f\" % f1_score(y_test, y_pred, average=\"micro\"))\n",
    "f1_score_list.append(f1_score(y_test, y_pred, average=\"micro\"))"
   ]
  },
  {
   "cell_type": "markdown",
   "id": "a3d26a11",
   "metadata": {
    "papermill": {
     "duration": 0.030886,
     "end_time": "2023-08-08T11:15:11.743936",
     "exception": false,
     "start_time": "2023-08-08T11:15:11.713050",
     "status": "completed"
    },
    "tags": []
   },
   "source": [
    "**F1 score of Support Vector Classifier on test data is 0.751**"
   ]
  },
  {
   "cell_type": "markdown",
   "id": "a0e43f5b",
   "metadata": {
    "papermill": {
     "duration": 0.029373,
     "end_time": "2023-08-08T11:15:11.803033",
     "exception": false,
     "start_time": "2023-08-08T11:15:11.773660",
     "status": "completed"
    },
    "tags": []
   },
   "source": [
    "# Naive Bayes Classifier"
   ]
  },
  {
   "cell_type": "code",
   "execution_count": 34,
   "id": "ff91b198",
   "metadata": {
    "execution": {
     "iopub.execute_input": "2023-08-08T11:15:11.864789Z",
     "iopub.status.busy": "2023-08-08T11:15:11.864100Z",
     "iopub.status.idle": "2023-08-08T11:15:12.241235Z",
     "shell.execute_reply": "2023-08-08T11:15:12.239896Z"
    },
    "papermill": {
     "duration": 0.411009,
     "end_time": "2023-08-08T11:15:12.243852",
     "exception": false,
     "start_time": "2023-08-08T11:15:11.832843",
     "status": "completed"
    },
    "tags": []
   },
   "outputs": [
    {
     "name": "stdout",
     "output_type": "stream",
     "text": [
      "              precision    recall  f1-score   support\n",
      "\n",
      "           0    0.79724   0.92418   0.85603     21605\n",
      "           1    0.91127   0.76813   0.83360     21900\n",
      "\n",
      "    accuracy                        0.84563     43505\n",
      "   macro avg    0.85426   0.84616   0.84482     43505\n",
      "weighted avg    0.85464   0.84563   0.84474     43505\n",
      "\n",
      "Time elapsed: 0.37s\n"
     ]
    }
   ],
   "source": [
    "# Model 2 : Bernoulli Naive Bayes Classifier\n",
    "\n",
    "start = time.time()\n",
    "\n",
    "#model = MultinomialNB(alpha=1.4, force_alpha=True) --- # Skipped\n",
    "#model = ComplementNB(alpha=1.35, fit_prior=False, force_alpha=True) --- # Skipped\n",
    "\n",
    "model = BernoulliNB(alpha=0.12, fit_prior=False, force_alpha=True) # Parameters learned from GridSearchCV\n",
    "\n",
    "# Parameter fir_prior is set to False because class imbalance is handled by SMOTE\n",
    "\n",
    "model.fit(X_train, y_train)\n",
    "\n",
    "y_pred = model.predict(X_test)\n",
    "print(classification_report(y_test, y_pred, digits=5))\n",
    "\n",
    "end = time.time()\n",
    "\n",
    "print(\"Time elapsed: %0.2f\" % (end-start)+\"s\")\n",
    "time_taken.append(end-start)"
   ]
  },
  {
   "cell_type": "code",
   "execution_count": 35,
   "id": "e93effba",
   "metadata": {
    "execution": {
     "iopub.execute_input": "2023-08-08T11:15:12.306452Z",
     "iopub.status.busy": "2023-08-08T11:15:12.306042Z",
     "iopub.status.idle": "2023-08-08T11:15:12.311454Z",
     "shell.execute_reply": "2023-08-08T11:15:12.310280Z"
    },
    "papermill": {
     "duration": 0.039971,
     "end_time": "2023-08-08T11:15:12.313693",
     "exception": false,
     "start_time": "2023-08-08T11:15:12.273722",
     "status": "completed"
    },
    "tags": []
   },
   "outputs": [],
   "source": [
    "# ### Grid Search for Naive Bayes ###\n",
    "    \n",
    "# param_grid = {\n",
    "#                #'alpha': [0.11, 0.09, 0.07, 0.1, 0.13, 0.19]  # C\n",
    "#                'alpha': [0.11, 0.09, 0.12, 0.1, 0.13, 10, 0.001], # B\n",
    "#                'force_alpha': [True, False],\n",
    "#                'fit_prior': [True, False]\n",
    "# }\n",
    "\n",
    "# start = time.time()\n",
    "\n",
    "# grid_search2 = GridSearchCV(model, param_grid, n_jobs=-1, error_score=0, scoring='f1', cv=5)\n",
    "# grid_search2.fit(X_train, y_train)\n",
    "\n",
    "# end = time.time()\n",
    "\n",
    "# print(\"Time elapsed: %0.5f\" % (end-start) + \" s\")\n",
    "\n",
    "# grid_search2.best_estimator_"
   ]
  },
  {
   "cell_type": "code",
   "execution_count": 36,
   "id": "eb0100ae",
   "metadata": {
    "execution": {
     "iopub.execute_input": "2023-08-08T11:15:12.375994Z",
     "iopub.status.busy": "2023-08-08T11:15:12.375088Z",
     "iopub.status.idle": "2023-08-08T11:15:12.690830Z",
     "shell.execute_reply": "2023-08-08T11:15:12.689918Z"
    },
    "papermill": {
     "duration": 0.349769,
     "end_time": "2023-08-08T11:15:12.693386",
     "exception": false,
     "start_time": "2023-08-08T11:15:12.343617",
     "status": "completed"
    },
    "tags": []
   },
   "outputs": [
    {
     "data": {
      "image/png": "[encoded data removed]",
      "text/plain": [
       "<Figure size 640x480 with 2 Axes>"
      ]
     },
     "metadata": {},
     "output_type": "display_data"
    }
   ],
   "source": [
    "# ### Confusion Matrix ###\n",
    "\n",
    "ConfusionMatrixDisplay.from_predictions(y_test, y_pred)\n",
    "plt.title('BernoulliNB : Confusion Matrix for Test set')\n",
    "plt.show()"
   ]
  },
  {
   "cell_type": "markdown",
   "id": "bbc6f0ee",
   "metadata": {
    "papermill": {
     "duration": 0.032014,
     "end_time": "2023-08-08T11:15:12.755987",
     "exception": false,
     "start_time": "2023-08-08T11:15:12.723973",
     "status": "completed"
    },
    "tags": []
   },
   "source": [
    "* False Negatives > False Positives"
   ]
  },
  {
   "cell_type": "code",
   "execution_count": 37,
   "id": "7c3e5d35",
   "metadata": {
    "execution": {
     "iopub.execute_input": "2023-08-08T11:15:12.820343Z",
     "iopub.status.busy": "2023-08-08T11:15:12.819300Z",
     "iopub.status.idle": "2023-08-08T11:15:12.824262Z",
     "shell.execute_reply": "2023-08-08T11:15:12.823177Z"
    },
    "papermill": {
     "duration": 0.038959,
     "end_time": "2023-08-08T11:15:12.826399",
     "exception": false,
     "start_time": "2023-08-08T11:15:12.787440",
     "status": "completed"
    },
    "tags": []
   },
   "outputs": [],
   "source": [
    "# ### Cross validating performance of best estimator ###\n",
    "\n",
    "# scores = cross_val_score(model, X_train, y_train, cv=5)\n",
    "# print(\"Mean accuracy of best model on training data: %0.3f\" % scores.mean())"
   ]
  },
  {
   "cell_type": "code",
   "execution_count": 38,
   "id": "0e8d4c95",
   "metadata": {
    "execution": {
     "iopub.execute_input": "2023-08-08T11:15:12.892224Z",
     "iopub.status.busy": "2023-08-08T11:15:12.891490Z",
     "iopub.status.idle": "2023-08-08T11:15:12.935700Z",
     "shell.execute_reply": "2023-08-08T11:15:12.934343Z"
    },
    "papermill": {
     "duration": 0.081181,
     "end_time": "2023-08-08T11:15:12.938408",
     "exception": false,
     "start_time": "2023-08-08T11:15:12.857227",
     "status": "completed"
    },
    "tags": []
   },
   "outputs": [
    {
     "name": "stdout",
     "output_type": "stream",
     "text": [
      "F1 score of Bernoulli Naive Bayes on test data is: 0.846\n"
     ]
    }
   ],
   "source": [
    "print(\"F1 score of Bernoulli Naive Bayes on test data is: %0.3f\" % f1_score(y_test, y_pred, average=\"micro\"))\n",
    "f1_score_list.append(f1_score(y_test, y_pred, average=\"micro\"))"
   ]
  },
  {
   "cell_type": "markdown",
   "id": "53fba025",
   "metadata": {
    "papermill": {
     "duration": 0.030599,
     "end_time": "2023-08-08T11:15:13.000025",
     "exception": false,
     "start_time": "2023-08-08T11:15:12.969426",
     "status": "completed"
    },
    "tags": []
   },
   "source": [
    "**F1 score of Bernoulli Naive Bayes on test data is 0.847**"
   ]
  },
  {
   "cell_type": "markdown",
   "id": "48a704b5",
   "metadata": {
    "papermill": {
     "duration": 0.030641,
     "end_time": "2023-08-08T11:15:13.061259",
     "exception": false,
     "start_time": "2023-08-08T11:15:13.030618",
     "status": "completed"
    },
    "tags": []
   },
   "source": [
    "# Logistic Regression"
   ]
  },
  {
   "cell_type": "code",
   "execution_count": 39,
   "id": "508daf5c",
   "metadata": {
    "execution": {
     "iopub.execute_input": "2023-08-08T11:15:13.125190Z",
     "iopub.status.busy": "2023-08-08T11:15:13.124447Z",
     "iopub.status.idle": "2023-08-08T11:19:13.889666Z",
     "shell.execute_reply": "2023-08-08T11:19:13.887910Z"
    },
    "papermill": {
     "duration": 240.832137,
     "end_time": "2023-08-08T11:19:13.923918",
     "exception": false,
     "start_time": "2023-08-08T11:15:13.091781",
     "status": "completed"
    },
    "tags": []
   },
   "outputs": [
    {
     "name": "stdout",
     "output_type": "stream",
     "text": [
      "              precision    recall  f1-score   support\n",
      "\n",
      "           0    0.83265   0.92483   0.87632     21605\n",
      "           1    0.91675   0.81662   0.86379     21900\n",
      "\n",
      "    accuracy                        0.87036     43505\n",
      "   macro avg    0.87470   0.87073   0.87006     43505\n",
      "weighted avg    0.87498   0.87036   0.87002     43505\n",
      "\n",
      "Time elapsed: 240.76 s\n"
     ]
    }
   ],
   "source": [
    "# Model 1 : LOGISTIC REGRESSION\n",
    "\n",
    "\n",
    "start = time.time()\n",
    "\n",
    "model = LogisticRegression(max_iter=1000, C=60, random_state=37) # Parameters found from GridSearchCV\n",
    "model.fit(X_train, y_train)\n",
    "\n",
    "y_pred = model.predict(X_test)\n",
    "print(classification_report(y_test, y_pred, digits=5))\n",
    "\n",
    "end = time.time()\n",
    "\n",
    "print(\"Time elapsed: %0.2f\" % (end-start)+\" s\")\n",
    "time_taken.append(end-start)"
   ]
  },
  {
   "cell_type": "code",
   "execution_count": 40,
   "id": "a4e06edf",
   "metadata": {
    "execution": {
     "iopub.execute_input": "2023-08-08T11:19:13.990788Z",
     "iopub.status.busy": "2023-08-08T11:19:13.990411Z",
     "iopub.status.idle": "2023-08-08T11:19:14.307521Z",
     "shell.execute_reply": "2023-08-08T11:19:14.306313Z"
    },
    "papermill": {
     "duration": 0.351806,
     "end_time": "2023-08-08T11:19:14.309863",
     "exception": false,
     "start_time": "2023-08-08T11:19:13.958057",
     "status": "completed"
    },
    "tags": []
   },
   "outputs": [
    {
     "data": {
      "image/png": "[encoded data removed]",
      "text/plain": [
       "<Figure size 640x480 with 2 Axes>"
      ]
     },
     "metadata": {},
     "output_type": "display_data"
    }
   ],
   "source": [
    "### Confusion Matrix ###\n",
    "\n",
    "ConfusionMatrixDisplay.from_predictions(y_test, y_pred)\n",
    "plt.title('Logistic Regression : Confusion Matrix for Test set')\n",
    "plt.show()"
   ]
  },
  {
   "cell_type": "markdown",
   "id": "965a4f30",
   "metadata": {
    "papermill": {
     "duration": 0.034002,
     "end_time": "2023-08-08T11:19:14.375125",
     "exception": false,
     "start_time": "2023-08-08T11:19:14.341123",
     "status": "completed"
    },
    "tags": []
   },
   "source": [
    "* False Negatives > False Positives"
   ]
  },
  {
   "cell_type": "code",
   "execution_count": 41,
   "id": "1f541937",
   "metadata": {
    "execution": {
     "iopub.execute_input": "2023-08-08T11:19:14.442730Z",
     "iopub.status.busy": "2023-08-08T11:19:14.441988Z",
     "iopub.status.idle": "2023-08-08T11:19:14.446693Z",
     "shell.execute_reply": "2023-08-08T11:19:14.445906Z"
    },
    "papermill": {
     "duration": 0.042075,
     "end_time": "2023-08-08T11:19:14.449055",
     "exception": false,
     "start_time": "2023-08-08T11:19:14.406980",
     "status": "completed"
    },
    "tags": []
   },
   "outputs": [],
   "source": [
    "# ### Grid Search for Logistic Regression ###\n",
    "\n",
    "# param_grid = {\n",
    "#                'solver': [\"lbfgs\"],\n",
    "#                'penalty': ['l2'], # solver 'lbfgs' does not support L1 regulatization\n",
    "#                'C': [55, 60, 65]\n",
    "# }\n",
    "\n",
    "# start = time.time()\n",
    "\n",
    "# grid_search = GridSearchCV(model, param_grid, n_jobs=-1, error_score='raise', scoring='f1')\n",
    "# grid_search.fit(X_train, y_train)\n",
    "\n",
    "# end = time.time()\n",
    "\n",
    "# print(\"Time elapsed: %0.5f\" % (end-start) + \" s\")\n",
    "\n",
    "# grid_search.best_params_"
   ]
  },
  {
   "cell_type": "code",
   "execution_count": 42,
   "id": "81d9a885",
   "metadata": {
    "execution": {
     "iopub.execute_input": "2023-08-08T11:19:14.515900Z",
     "iopub.status.busy": "2023-08-08T11:19:14.515096Z",
     "iopub.status.idle": "2023-08-08T11:19:14.519602Z",
     "shell.execute_reply": "2023-08-08T11:19:14.518520Z"
    },
    "papermill": {
     "duration": 0.040233,
     "end_time": "2023-08-08T11:19:14.522022",
     "exception": false,
     "start_time": "2023-08-08T11:19:14.481789",
     "status": "completed"
    },
    "tags": []
   },
   "outputs": [],
   "source": [
    "# ### Cross validating performance of best estimator ###\n",
    "\n",
    "# scores = cross_val_score(model, X_train, y_train, cv=5)\n",
    "# print(\"Mean accuracy of best model on training data: %0.3f\" % scores.mean())"
   ]
  },
  {
   "cell_type": "code",
   "execution_count": 43,
   "id": "784eee21",
   "metadata": {
    "execution": {
     "iopub.execute_input": "2023-08-08T11:19:14.589233Z",
     "iopub.status.busy": "2023-08-08T11:19:14.587904Z",
     "iopub.status.idle": "2023-08-08T11:19:14.637352Z",
     "shell.execute_reply": "2023-08-08T11:19:14.635946Z"
    },
    "papermill": {
     "duration": 0.085175,
     "end_time": "2023-08-08T11:19:14.639896",
     "exception": false,
     "start_time": "2023-08-08T11:19:14.554721",
     "status": "completed"
    },
    "tags": []
   },
   "outputs": [
    {
     "name": "stdout",
     "output_type": "stream",
     "text": [
      "F1 score of Logistic Regression on test data is: 0.870\n"
     ]
    }
   ],
   "source": [
    "print(\"F1 score of Logistic Regression on test data is: %0.3f\" % f1_score(y_test, y_pred, average=\"micro\"))\n",
    "f1_score_list.append(f1_score(y_test, y_pred, average=\"micro\"))"
   ]
  },
  {
   "cell_type": "markdown",
   "id": "2096a28a",
   "metadata": {
    "papermill": {
     "duration": 0.031537,
     "end_time": "2023-08-08T11:19:14.703936",
     "exception": false,
     "start_time": "2023-08-08T11:19:14.672399",
     "status": "completed"
    },
    "tags": []
   },
   "source": [
    "**F1 score of Logistic Regression on test data is 0.872**"
   ]
  },
  {
   "cell_type": "markdown",
   "id": "37c99a23",
   "metadata": {
    "papermill": {
     "duration": 0.031901,
     "end_time": "2023-08-08T11:19:14.768696",
     "exception": false,
     "start_time": "2023-08-08T11:19:14.736795",
     "status": "completed"
    },
    "tags": []
   },
   "source": [
    "**Comparing model performance**"
   ]
  },
  {
   "cell_type": "code",
   "execution_count": 44,
   "id": "715093de",
   "metadata": {
    "execution": {
     "iopub.execute_input": "2023-08-08T11:19:14.906074Z",
     "iopub.status.busy": "2023-08-08T11:19:14.905615Z",
     "iopub.status.idle": "2023-08-08T11:19:15.177260Z",
     "shell.execute_reply": "2023-08-08T11:19:15.175281Z"
    },
    "papermill": {
     "duration": 0.309362,
     "end_time": "2023-08-08T11:19:15.180388",
     "exception": false,
     "start_time": "2023-08-08T11:19:14.871026",
     "status": "completed"
    },
    "tags": []
   },
   "outputs": [
    {
     "name": "stdout",
     "output_type": "stream",
     "text": [
      "[0.7498448454200667, 0.8456269394322492, 0.8703597287668084]\n"
     ]
    },
    {
     "data": {
      "image/png": "[encoded data removed]",
      "text/plain": [
       "<Figure size 640x480 with 1 Axes>"
      ]
     },
     "metadata": {},
     "output_type": "display_data"
    }
   ],
   "source": [
    "## Plotting the f1-scores of all 3 models ##\n",
    "\n",
    "models = ['Support Vector Classifier', 'Bernoulli Naive Bayes', 'Logistic Regression']\n",
    "\n",
    "print(f1_score_list) # F1 Score list\n",
    "\n",
    "plt.figure()\n",
    "plt.bar(models, f1_score_list, width=0.5, color=['tab:red', 'tab:blue', 'tab:green'])\n",
    "plt.xlabel(\"Models\")\n",
    "plt.ylabel(\"F1 Score\")\n",
    "plt.title(\"Model Performance\")\n",
    "plt.show()"
   ]
  },
  {
   "cell_type": "code",
   "execution_count": 45,
   "id": "608cf341",
   "metadata": {
    "execution": {
     "iopub.execute_input": "2023-08-08T11:19:15.248811Z",
     "iopub.status.busy": "2023-08-08T11:19:15.248134Z",
     "iopub.status.idle": "2023-08-08T11:19:15.487569Z",
     "shell.execute_reply": "2023-08-08T11:19:15.486335Z"
    },
    "papermill": {
     "duration": 0.276478,
     "end_time": "2023-08-08T11:19:15.490765",
     "exception": false,
     "start_time": "2023-08-08T11:19:15.214287",
     "status": "completed"
    },
    "tags": []
   },
   "outputs": [
    {
     "data": {
      "image/png": "[encoded data removed]",
      "text/plain": [
       "<Figure size 1000x200 with 1 Axes>"
      ]
     },
     "metadata": {},
     "output_type": "display_data"
    }
   ],
   "source": [
    "## Plotting the time taken by all 3 models to fit the dataset ##\n",
    "\n",
    "plt.figure(figsize=(10,2))\n",
    "plt.bar(models, time_taken, width=0.2, color=['tab:red', 'tab:blue', 'tab:green'])\n",
    "plt.xlabel(\"Models\")\n",
    "plt.ylabel(\"Time taken (in seconds)\")\n",
    "plt.title(\"Time taken by different models\")\n",
    "plt.show()"
   ]
  },
  {
   "cell_type": "markdown",
   "id": "2fc2fd13",
   "metadata": {
    "papermill": {
     "duration": 0.033892,
     "end_time": "2023-08-08T11:19:15.557666",
     "exception": false,
     "start_time": "2023-08-08T11:19:15.523774",
     "status": "completed"
    },
    "tags": []
   },
   "source": [
    "**Model Insights**\n",
    "* Logistic Regression gives the best results among all the models.\n",
    "* BernoulliNB is the fastest among all.\n",
    "* Among all models, the number of False Negatives are always high.\n",
    "* There is some evidence of overfitting as the test score is lower than the train score."
   ]
  },
  {
   "cell_type": "markdown",
   "id": "0c397a9e",
   "metadata": {
    "papermill": {
     "duration": 0.034973,
     "end_time": "2023-08-08T11:19:15.625886",
     "exception": false,
     "start_time": "2023-08-08T11:19:15.590913",
     "status": "completed"
    },
    "tags": []
   },
   "source": [
    "# Test Set"
   ]
  },
  {
   "cell_type": "code",
   "execution_count": 46,
   "id": "a0f9143d",
   "metadata": {
    "_cell_guid": "7af80659-e49f-4c98-9b35-336e333ede25",
    "_uuid": "e51c2e3d-47d7-4f9e-a98e-f392db1c84c8",
    "collapsed": false,
    "execution": {
     "iopub.execute_input": "2023-08-08T11:19:15.694303Z",
     "iopub.status.busy": "2023-08-08T11:19:15.693883Z",
     "iopub.status.idle": "2023-08-08T11:19:16.012259Z",
     "shell.execute_reply": "2023-08-08T11:19:16.010776Z"
    },
    "jupyter": {
     "outputs_hidden": false
    },
    "papermill": {
     "duration": 0.356253,
     "end_time": "2023-08-08T11:19:16.015285",
     "exception": false,
     "start_time": "2023-08-08T11:19:15.659032",
     "status": "completed"
    },
    "tags": []
   },
   "outputs": [],
   "source": [
    "test = pd.read_csv('/kaggle/input/sentiment-prediction-on-movie-reviews/test.csv')\n",
    "#test.head()"
   ]
  },
  {
   "cell_type": "code",
   "execution_count": 47,
   "id": "f74eb92c",
   "metadata": {
    "_cell_guid": "20a01110-6788-4722-aeac-54225734ea44",
    "_uuid": "93698b89-4914-46ca-90e5-b10502ece0f1",
    "collapsed": false,
    "execution": {
     "iopub.execute_input": "2023-08-08T11:19:16.085614Z",
     "iopub.status.busy": "2023-08-08T11:19:16.085164Z",
     "iopub.status.idle": "2023-08-08T11:19:16.152838Z",
     "shell.execute_reply": "2023-08-08T11:19:16.151525Z"
    },
    "jupyter": {
     "outputs_hidden": false
    },
    "papermill": {
     "duration": 0.106564,
     "end_time": "2023-08-08T11:19:16.155203",
     "exception": false,
     "start_time": "2023-08-08T11:19:16.048639",
     "status": "completed"
    },
    "tags": []
   },
   "outputs": [
    {
     "name": "stdout",
     "output_type": "stream",
     "text": [
      "<class 'pandas.core.frame.DataFrame'>\n",
      "RangeIndex: 55315 entries, 0 to 55314\n",
      "Data columns (total 4 columns):\n",
      " #   Column        Non-Null Count  Dtype \n",
      "---  ------        --------------  ----- \n",
      " 0   movieid       55315 non-null  object\n",
      " 1   reviewerName  55315 non-null  object\n",
      " 2   isTopCritic   55315 non-null  bool  \n",
      " 3   reviewText    52805 non-null  object\n",
      "dtypes: bool(1), object(3)\n",
      "memory usage: 1.3+ MB\n"
     ]
    }
   ],
   "source": [
    "test.info()"
   ]
  },
  {
   "cell_type": "markdown",
   "id": "2de1dc55",
   "metadata": {
    "papermill": {
     "duration": 0.032439,
     "end_time": "2023-08-08T11:19:16.220425",
     "exception": false,
     "start_time": "2023-08-08T11:19:16.187986",
     "status": "completed"
    },
    "tags": []
   },
   "source": [
    "test dataset has 4 columns, with the column 'isTopCritic' as the boolean variable, rest are text."
   ]
  },
  {
   "cell_type": "code",
   "execution_count": 48,
   "id": "becd7b1a",
   "metadata": {
    "_cell_guid": "3ca77326-97de-4180-b7f6-0a44bb536893",
    "_uuid": "e60135d5-3b89-4b42-86c8-a8bf790e470d",
    "collapsed": false,
    "execution": {
     "iopub.execute_input": "2023-08-08T11:19:16.287564Z",
     "iopub.status.busy": "2023-08-08T11:19:16.286419Z",
     "iopub.status.idle": "2023-08-08T11:19:16.350782Z",
     "shell.execute_reply": "2023-08-08T11:19:16.349429Z"
    },
    "jupyter": {
     "outputs_hidden": false
    },
    "papermill": {
     "duration": 0.100765,
     "end_time": "2023-08-08T11:19:16.353359",
     "exception": false,
     "start_time": "2023-08-08T11:19:16.252594",
     "status": "completed"
    },
    "tags": []
   },
   "outputs": [
    {
     "data": {
      "text/plain": [
       "movieid            0\n",
       "reviewerName       0\n",
       "isTopCritic        0\n",
       "reviewText      2510\n",
       "dtype: int64"
      ]
     },
     "execution_count": 48,
     "metadata": {},
     "output_type": "execute_result"
    }
   ],
   "source": [
    "test.isnull().sum()"
   ]
  },
  {
   "cell_type": "markdown",
   "id": "7a5513bb",
   "metadata": {
    "papermill": {
     "duration": 0.033557,
     "end_time": "2023-08-08T11:19:16.420606",
     "exception": false,
     "start_time": "2023-08-08T11:19:16.387049",
     "status": "completed"
    },
    "tags": []
   },
   "source": [
    "There are 2510 missing values in the test dataset."
   ]
  },
  {
   "cell_type": "code",
   "execution_count": 49,
   "id": "344e61d0",
   "metadata": {
    "_cell_guid": "cd711338-9710-4c33-8c16-d4329c82ef97",
    "_uuid": "c0586ad6-8614-49f7-b504-f14efe1d6f0d",
    "collapsed": false,
    "execution": {
     "iopub.execute_input": "2023-08-08T11:19:16.491696Z",
     "iopub.status.busy": "2023-08-08T11:19:16.490901Z",
     "iopub.status.idle": "2023-08-08T11:19:16.559233Z",
     "shell.execute_reply": "2023-08-08T11:19:16.557841Z"
    },
    "jupyter": {
     "outputs_hidden": false
    },
    "papermill": {
     "duration": 0.1076,
     "end_time": "2023-08-08T11:19:16.562498",
     "exception": false,
     "start_time": "2023-08-08T11:19:16.454898",
     "status": "completed"
    },
    "tags": []
   },
   "outputs": [],
   "source": [
    "test = test.fillna('')"
   ]
  },
  {
   "cell_type": "markdown",
   "id": "cd7551dd",
   "metadata": {
    "papermill": {
     "duration": 0.034936,
     "end_time": "2023-08-08T11:19:16.630888",
     "exception": false,
     "start_time": "2023-08-08T11:19:16.595952",
     "status": "completed"
    },
    "tags": []
   },
   "source": [
    "Replacing the missing values with an empty string. (Same practice as the train dataset)"
   ]
  },
  {
   "cell_type": "code",
   "execution_count": 50,
   "id": "18d689c1",
   "metadata": {
    "_cell_guid": "752fe35a-714d-4e80-a505-e54a3befe286",
    "_uuid": "d06bead7-0779-471a-a6f7-0456dada3461",
    "collapsed": false,
    "execution": {
     "iopub.execute_input": "2023-08-08T11:19:16.699902Z",
     "iopub.status.busy": "2023-08-08T11:19:16.699471Z",
     "iopub.status.idle": "2023-08-08T11:19:19.773069Z",
     "shell.execute_reply": "2023-08-08T11:19:19.771894Z"
    },
    "jupyter": {
     "outputs_hidden": false
    },
    "papermill": {
     "duration": 3.111013,
     "end_time": "2023-08-08T11:19:19.776009",
     "exception": false,
     "start_time": "2023-08-08T11:19:16.664996",
     "status": "completed"
    },
    "tags": []
   },
   "outputs": [],
   "source": [
    "\n",
    "#vectorizing test reviews\n",
    "Test = np.array(test[\"reviewText\"])\n",
    "# print(test_fm[0])\n",
    "T = []\n",
    "T = [x.lower() for x in Test] # Changing the corpus into lowercase\n",
    "\n",
    "T_new = [re.sub(pattern, '', x) for x in T] # Replacing all the digits with an empty string\n",
    "\n",
    "T_new_vec = vectorizer.transform(T_new) # Transforming the test 'reviewText' column with vocabulary learnt from train set"
   ]
  },
  {
   "cell_type": "markdown",
   "id": "35ca36b2",
   "metadata": {
    "papermill": {
     "duration": 0.035074,
     "end_time": "2023-08-08T11:19:19.845007",
     "exception": false,
     "start_time": "2023-08-08T11:19:19.809933",
     "status": "completed"
    },
    "tags": []
   },
   "source": [
    "Following the text processing steps as the training set."
   ]
  },
  {
   "cell_type": "code",
   "execution_count": 51,
   "id": "9a3408e7",
   "metadata": {
    "_cell_guid": "cc63ad89-f09d-4325-a2eb-23f424158cab",
    "_uuid": "882ed2c9-0bec-45a0-87ef-b39c1b90a67a",
    "collapsed": false,
    "execution": {
     "iopub.execute_input": "2023-08-08T11:19:19.919076Z",
     "iopub.status.busy": "2023-08-08T11:19:19.917704Z",
     "iopub.status.idle": "2023-08-08T11:19:19.958098Z",
     "shell.execute_reply": "2023-08-08T11:19:19.956654Z"
    },
    "jupyter": {
     "outputs_hidden": false
    },
    "papermill": {
     "duration": 0.080674,
     "end_time": "2023-08-08T11:19:19.960850",
     "exception": false,
     "start_time": "2023-08-08T11:19:19.880176",
     "status": "completed"
    },
    "tags": []
   },
   "outputs": [
    {
     "name": "stdout",
     "output_type": "stream",
     "text": [
      "['POSITIVE', 'POSITIVE', 'POSITIVE', 'POSITIVE', 'POSITIVE']\n",
      "[1 1 1 1 1]\n"
     ]
    }
   ],
   "source": [
    "### Predicting using the best of the 3 models ###\n",
    "prediction = model.predict(T_new_vec)\n",
    "\n",
    "#Transforming labels to their original form...\n",
    "\n",
    "output = []\n",
    "for x in prediction:\n",
    "    if x == 1:\n",
    "        output.append(\"POSITIVE\")\n",
    "    else:\n",
    "        output.append(\"NEGATIVE\")\n",
    "print(output[:5])\n",
    "print(prediction[:5])"
   ]
  },
  {
   "cell_type": "code",
   "execution_count": 52,
   "id": "22b1a599",
   "metadata": {
    "_cell_guid": "5df6109b-d568-44b7-a65f-60b0a8a57500",
    "_uuid": "d7348170-86a1-4b61-aacd-5022810c5a25",
    "collapsed": false,
    "execution": {
     "iopub.execute_input": "2023-08-08T11:19:20.029707Z",
     "iopub.status.busy": "2023-08-08T11:19:20.028630Z",
     "iopub.status.idle": "2023-08-08T11:19:20.132513Z",
     "shell.execute_reply": "2023-08-08T11:19:20.131060Z"
    },
    "jupyter": {
     "outputs_hidden": false
    },
    "papermill": {
     "duration": 0.141013,
     "end_time": "2023-08-08T11:19:20.135241",
     "exception": false,
     "start_time": "2023-08-08T11:19:19.994228",
     "status": "completed"
    },
    "tags": []
   },
   "outputs": [],
   "source": [
    "submission = pd.DataFrame(columns = ['id','sentiment'])\n",
    "submission['id'] = [i for i in range(len(output))]\n",
    "submission['sentiment'] = output"
   ]
  },
  {
   "cell_type": "markdown",
   "id": "7e2ec1de",
   "metadata": {
    "papermill": {
     "duration": 0.033053,
     "end_time": "2023-08-08T11:19:20.201366",
     "exception": false,
     "start_time": "2023-08-08T11:19:20.168313",
     "status": "completed"
    },
    "tags": []
   },
   "source": [
    "Creating a pandas dataframe consisting 2 columns, 'id' and 'sentiment' which is the target variable."
   ]
  },
  {
   "cell_type": "markdown",
   "id": "6aa20c55",
   "metadata": {
    "papermill": {
     "duration": 0.032712,
     "end_time": "2023-08-08T11:19:20.266609",
     "exception": false,
     "start_time": "2023-08-08T11:19:20.233897",
     "status": "completed"
    },
    "tags": []
   },
   "source": [
    "Creating the "
   ]
  },
  {
   "cell_type": "code",
   "execution_count": 53,
   "id": "f4786151",
   "metadata": {
    "_cell_guid": "4c2d5c0a-e213-4f51-a465-15ce7e281d9e",
    "_uuid": "4695b7db-619e-4080-8fc6-c7c8ddfd2d90",
    "collapsed": false,
    "execution": {
     "iopub.execute_input": "2023-08-08T11:19:20.335162Z",
     "iopub.status.busy": "2023-08-08T11:19:20.334722Z",
     "iopub.status.idle": "2023-08-08T11:19:20.342162Z",
     "shell.execute_reply": "2023-08-08T11:19:20.341045Z"
    },
    "jupyter": {
     "outputs_hidden": false
    },
    "papermill": {
     "duration": 0.045282,
     "end_time": "2023-08-08T11:19:20.344624",
     "exception": false,
     "start_time": "2023-08-08T11:19:20.299342",
     "status": "completed"
    },
    "tags": []
   },
   "outputs": [
    {
     "data": {
      "text/plain": [
       "(55315, 2)"
      ]
     },
     "execution_count": 53,
     "metadata": {},
     "output_type": "execute_result"
    }
   ],
   "source": [
    "submission.shape"
   ]
  },
  {
   "cell_type": "code",
   "execution_count": 54,
   "id": "7de71c29",
   "metadata": {
    "_cell_guid": "ace7b306-abdf-462b-b850-33a8e4415c57",
    "_uuid": "c409f38f-a3a5-426e-ba98-c77d51a561a8",
    "collapsed": false,
    "execution": {
     "iopub.execute_input": "2023-08-08T11:19:20.413284Z",
     "iopub.status.busy": "2023-08-08T11:19:20.412874Z",
     "iopub.status.idle": "2023-08-08T11:19:20.424695Z",
     "shell.execute_reply": "2023-08-08T11:19:20.423504Z"
    },
    "jupyter": {
     "outputs_hidden": false
    },
    "papermill": {
     "duration": 0.048864,
     "end_time": "2023-08-08T11:19:20.427303",
     "exception": false,
     "start_time": "2023-08-08T11:19:20.378439",
     "status": "completed"
    },
    "tags": []
   },
   "outputs": [
    {
     "name": "stdout",
     "output_type": "stream",
     "text": [
      "   id sentiment\n",
      "0   0  POSITIVE\n",
      "1   1  POSITIVE\n",
      "2   2  POSITIVE\n",
      "3   3  POSITIVE\n",
      "4   4  POSITIVE\n",
      "5   5  POSITIVE\n",
      "6   6  POSITIVE\n",
      "7   7  NEGATIVE\n",
      "8   8  POSITIVE\n",
      "9   9  POSITIVE\n"
     ]
    }
   ],
   "source": [
    "print(submission[0:10])"
   ]
  },
  {
   "cell_type": "code",
   "execution_count": 55,
   "id": "047f01ee",
   "metadata": {
    "_cell_guid": "68a224ad-96ac-47fa-989f-6fcea7bc54cf",
    "_uuid": "4c159f73-dd6a-40ef-8c53-c10580bafde4",
    "collapsed": false,
    "execution": {
     "iopub.execute_input": "2023-08-08T11:19:20.496356Z",
     "iopub.status.busy": "2023-08-08T11:19:20.495937Z",
     "iopub.status.idle": "2023-08-08T11:19:20.666882Z",
     "shell.execute_reply": "2023-08-08T11:19:20.665614Z"
    },
    "jupyter": {
     "outputs_hidden": false
    },
    "papermill": {
     "duration": 0.209146,
     "end_time": "2023-08-08T11:19:20.670153",
     "exception": false,
     "start_time": "2023-08-08T11:19:20.461007",
     "status": "completed"
    },
    "tags": []
   },
   "outputs": [],
   "source": [
    "submission.to_csv('submission.csv', index = False)"
   ]
  },
  {
   "cell_type": "markdown",
   "id": "016f606d",
   "metadata": {
    "papermill": {
     "duration": 0.033985,
     "end_time": "2023-08-08T11:19:20.737616",
     "exception": false,
     "start_time": "2023-08-08T11:19:20.703631",
     "status": "completed"
    },
    "tags": []
   },
   "source": [
    "**Submitting the dataframe 'submission' as a csv file for final submission.**"
   ]
  }
 ],
 "metadata": {
  "kernelspec": {
   "display_name": "Python 3",
   "language": "python",
   "name": "python3"
  },
  "language_info": {
   "codemirror_mode": {
    "name": "ipython",
    "version": 3
   },
   "file_extension": ".py",
   "mimetype": "text/x-python",
   "name": "python",
   "nbconvert_exporter": "python",
   "pygments_lexer": "ipython3",
   "version": "3.10.10"
  },
  "papermill": {
   "default_parameters": {},
   "duration": 1103.560318,
   "end_time": "2023-08-08T11:19:22.099877",
   "environment_variables": {},
   "exception": null,
   "input_path": "__notebook__.ipynb",
   "output_path": "__notebook__.ipynb",
   "parameters": {},
   "start_time": "2023-08-08T11:00:58.539559",
   "version": "2.4.0"
  }
 },
 "nbformat": 4,
 "nbformat_minor": 5
}
